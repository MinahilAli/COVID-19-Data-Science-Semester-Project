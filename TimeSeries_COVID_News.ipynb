{
  "nbformat": 4,
  "nbformat_minor": 0,
  "metadata": {
    "colab": {
      "name": "TimeSeries_COVID_News.ipynb",
      "provenance": [],
      "collapsed_sections": []
    },
    "kernelspec": {
      "name": "python3",
      "display_name": "Python 3"
    }
  },
  "cells": [
    {
      "cell_type": "code",
      "metadata": {
        "id": "hRlCUhTYQNLl",
        "colab_type": "code",
        "colab": {}
      },
      "source": [
        "import numpy as np\n",
        "import pandas as pd"
      ],
      "execution_count": 0,
      "outputs": []
    },
    {
      "cell_type": "code",
      "metadata": {
        "id": "JCLKQcrgQWC_",
        "colab_type": "code",
        "colab": {}
      },
      "source": [
        "cv=pd.read_excel(\"/content/TimeSeries_COVID_News.xlsx\")"
      ],
      "execution_count": 0,
      "outputs": []
    },
    {
      "cell_type": "code",
      "metadata": {
        "id": "QsIs4ExAQk1w",
        "colab_type": "code",
        "outputId": "d116d0d9-e71f-455f-a90d-17bd7d5160f8",
        "colab": {
          "base_uri": "https://localhost:8080/",
          "height": 586
        }
      },
      "source": [
        "cv"
      ],
      "execution_count": 0,
      "outputs": [
        {
          "output_type": "execute_result",
          "data": {
            "text/html": [
              "<div>\n",
              "<style scoped>\n",
              "    .dataframe tbody tr th:only-of-type {\n",
              "        vertical-align: middle;\n",
              "    }\n",
              "\n",
              "    .dataframe tbody tr th {\n",
              "        vertical-align: top;\n",
              "    }\n",
              "\n",
              "    .dataframe thead th {\n",
              "        text-align: right;\n",
              "    }\n",
              "</style>\n",
              "<table border=\"1\" class=\"dataframe\">\n",
              "  <thead>\n",
              "    <tr style=\"text-align: right;\">\n",
              "      <th></th>\n",
              "      <th>Unnamed: 0</th>\n",
              "      <th>Date</th>\n",
              "      <th>News</th>\n",
              "      <th>Agg News</th>\n",
              "    </tr>\n",
              "  </thead>\n",
              "  <tbody>\n",
              "    <tr>\n",
              "      <th>0</th>\n",
              "      <td>0</td>\n",
              "      <td>11-Mar-2020</td>\n",
              "      <td>Updates: Pakistan:</td>\n",
              "      <td>Updates: Pakistan: \\n Three new cases have bee...</td>\n",
              "    </tr>\n",
              "    <tr>\n",
              "      <th>1</th>\n",
              "      <td>1</td>\n",
              "      <td>11-Mar-2020</td>\n",
              "      <td>Three new cases have been confirmed in the pas...</td>\n",
              "      <td>Updates: Pakistan: \\n Three new cases have bee...</td>\n",
              "    </tr>\n",
              "    <tr>\n",
              "      <th>2</th>\n",
              "      <td>2</td>\n",
              "      <td>11-Mar-2020</td>\n",
              "      <td>Number of calls to passengers returning from I...</td>\n",
              "      <td>Updates: Pakistan: \\n Three new cases have bee...</td>\n",
              "    </tr>\n",
              "    <tr>\n",
              "      <th>3</th>\n",
              "      <td>3</td>\n",
              "      <td>11-Mar-2020</td>\n",
              "      <td>Global:</td>\n",
              "      <td>Updates: Pakistan: \\n Three new cases have bee...</td>\n",
              "    </tr>\n",
              "    <tr>\n",
              "      <th>4</th>\n",
              "      <td>4</td>\n",
              "      <td>11-Mar-2020</td>\n",
              "      <td>Total cases: 118,887,  Total Deaths: 4,290 •</td>\n",
              "      <td>Updates: Pakistan: \\n Three new cases have bee...</td>\n",
              "    </tr>\n",
              "    <tr>\n",
              "      <th>...</th>\n",
              "      <td>...</td>\n",
              "      <td>...</td>\n",
              "      <td>...</td>\n",
              "      <td>...</td>\n",
              "    </tr>\n",
              "    <tr>\n",
              "      <th>141</th>\n",
              "      <td>2</td>\n",
              "      <td>2020-04-03 00:00:00</td>\n",
              "      <td>2,450. Two deaths reported from Sindh. One dea...</td>\n",
              "      <td>Updates: Pakistan: \\n During last 24 hours, 15...</td>\n",
              "    </tr>\n",
              "    <tr>\n",
              "      <th>142</th>\n",
              "      <td>3</td>\n",
              "      <td>2020-04-03 00:00:00</td>\n",
              "      <td>deaths 35. •</td>\n",
              "      <td>Updates: Pakistan: \\n During last 24 hours, 15...</td>\n",
              "    </tr>\n",
              "    <tr>\n",
              "      <th>143</th>\n",
              "      <td>4</td>\n",
              "      <td>2020-04-03 00:00:00</td>\n",
              "      <td>Global:</td>\n",
              "      <td>Updates: Pakistan: \\n During last 24 hours, 15...</td>\n",
              "    </tr>\n",
              "    <tr>\n",
              "      <th>144</th>\n",
              "      <td>5</td>\n",
              "      <td>2020-04-03 00:00:00</td>\n",
              "      <td>Total cases:1,015,709 Total Deaths: 53,069 •</td>\n",
              "      <td>Updates: Pakistan: \\n During last 24 hours, 15...</td>\n",
              "    </tr>\n",
              "    <tr>\n",
              "      <th>145</th>\n",
              "      <td>6</td>\n",
              "      <td>2020-04-03 00:00:00</td>\n",
              "      <td>Total number of countries/regions affected: 181 •</td>\n",
              "      <td>Updates: Pakistan: \\n During last 24 hours, 15...</td>\n",
              "    </tr>\n",
              "  </tbody>\n",
              "</table>\n",
              "<p>146 rows × 4 columns</p>\n",
              "</div>"
            ],
            "text/plain": [
              "     Unnamed: 0  ...                                           Agg News\n",
              "0             0  ...  Updates: Pakistan: \\n Three new cases have bee...\n",
              "1             1  ...  Updates: Pakistan: \\n Three new cases have bee...\n",
              "2             2  ...  Updates: Pakistan: \\n Three new cases have bee...\n",
              "3             3  ...  Updates: Pakistan: \\n Three new cases have bee...\n",
              "4             4  ...  Updates: Pakistan: \\n Three new cases have bee...\n",
              "..          ...  ...                                                ...\n",
              "141           2  ...  Updates: Pakistan: \\n During last 24 hours, 15...\n",
              "142           3  ...  Updates: Pakistan: \\n During last 24 hours, 15...\n",
              "143           4  ...  Updates: Pakistan: \\n During last 24 hours, 15...\n",
              "144           5  ...  Updates: Pakistan: \\n During last 24 hours, 15...\n",
              "145           6  ...  Updates: Pakistan: \\n During last 24 hours, 15...\n",
              "\n",
              "[146 rows x 4 columns]"
            ]
          },
          "metadata": {
            "tags": []
          },
          "execution_count": 7
        }
      ]
    },
    {
      "cell_type": "code",
      "metadata": {
        "id": "NT1qd4bbRDCb",
        "colab_type": "code",
        "colab": {}
      },
      "source": [
        "cv.drop('Unnamed: 0',axis=1,inplace=True)"
      ],
      "execution_count": 0,
      "outputs": []
    },
    {
      "cell_type": "code",
      "metadata": {
        "id": "o28WPogJRNKb",
        "colab_type": "code",
        "outputId": "d0df432e-da72-484b-fed0-659b0927d7da",
        "colab": {
          "base_uri": "https://localhost:8080/",
          "height": 570
        }
      },
      "source": [
        "cv"
      ],
      "execution_count": 0,
      "outputs": [
        {
          "output_type": "execute_result",
          "data": {
            "text/html": [
              "<div>\n",
              "<style scoped>\n",
              "    .dataframe tbody tr th:only-of-type {\n",
              "        vertical-align: middle;\n",
              "    }\n",
              "\n",
              "    .dataframe tbody tr th {\n",
              "        vertical-align: top;\n",
              "    }\n",
              "\n",
              "    .dataframe thead th {\n",
              "        text-align: right;\n",
              "    }\n",
              "</style>\n",
              "<table border=\"1\" class=\"dataframe\">\n",
              "  <thead>\n",
              "    <tr style=\"text-align: right;\">\n",
              "      <th></th>\n",
              "      <th>Date</th>\n",
              "      <th>News</th>\n",
              "      <th>Agg News</th>\n",
              "    </tr>\n",
              "  </thead>\n",
              "  <tbody>\n",
              "    <tr>\n",
              "      <th>0</th>\n",
              "      <td>11-Mar-2020</td>\n",
              "      <td>Updates: Pakistan:</td>\n",
              "      <td>Updates: Pakistan: \\n Three new cases have bee...</td>\n",
              "    </tr>\n",
              "    <tr>\n",
              "      <th>1</th>\n",
              "      <td>11-Mar-2020</td>\n",
              "      <td>Three new cases have been confirmed in the pas...</td>\n",
              "      <td>Updates: Pakistan: \\n Three new cases have bee...</td>\n",
              "    </tr>\n",
              "    <tr>\n",
              "      <th>2</th>\n",
              "      <td>11-Mar-2020</td>\n",
              "      <td>Number of calls to passengers returning from I...</td>\n",
              "      <td>Updates: Pakistan: \\n Three new cases have bee...</td>\n",
              "    </tr>\n",
              "    <tr>\n",
              "      <th>3</th>\n",
              "      <td>11-Mar-2020</td>\n",
              "      <td>Global:</td>\n",
              "      <td>Updates: Pakistan: \\n Three new cases have bee...</td>\n",
              "    </tr>\n",
              "    <tr>\n",
              "      <th>4</th>\n",
              "      <td>11-Mar-2020</td>\n",
              "      <td>Total cases: 118,887,  Total Deaths: 4,290 •</td>\n",
              "      <td>Updates: Pakistan: \\n Three new cases have bee...</td>\n",
              "    </tr>\n",
              "    <tr>\n",
              "      <th>...</th>\n",
              "      <td>...</td>\n",
              "      <td>...</td>\n",
              "      <td>...</td>\n",
              "    </tr>\n",
              "    <tr>\n",
              "      <th>141</th>\n",
              "      <td>2020-04-03 00:00:00</td>\n",
              "      <td>2,450. Two deaths reported from Sindh. One dea...</td>\n",
              "      <td>Updates: Pakistan: \\n During last 24 hours, 15...</td>\n",
              "    </tr>\n",
              "    <tr>\n",
              "      <th>142</th>\n",
              "      <td>2020-04-03 00:00:00</td>\n",
              "      <td>deaths 35. •</td>\n",
              "      <td>Updates: Pakistan: \\n During last 24 hours, 15...</td>\n",
              "    </tr>\n",
              "    <tr>\n",
              "      <th>143</th>\n",
              "      <td>2020-04-03 00:00:00</td>\n",
              "      <td>Global:</td>\n",
              "      <td>Updates: Pakistan: \\n During last 24 hours, 15...</td>\n",
              "    </tr>\n",
              "    <tr>\n",
              "      <th>144</th>\n",
              "      <td>2020-04-03 00:00:00</td>\n",
              "      <td>Total cases:1,015,709 Total Deaths: 53,069 •</td>\n",
              "      <td>Updates: Pakistan: \\n During last 24 hours, 15...</td>\n",
              "    </tr>\n",
              "    <tr>\n",
              "      <th>145</th>\n",
              "      <td>2020-04-03 00:00:00</td>\n",
              "      <td>Total number of countries/regions affected: 181 •</td>\n",
              "      <td>Updates: Pakistan: \\n During last 24 hours, 15...</td>\n",
              "    </tr>\n",
              "  </tbody>\n",
              "</table>\n",
              "<p>146 rows × 3 columns</p>\n",
              "</div>"
            ],
            "text/plain": [
              "                    Date  ...                                           Agg News\n",
              "0            11-Mar-2020  ...  Updates: Pakistan: \\n Three new cases have bee...\n",
              "1            11-Mar-2020  ...  Updates: Pakistan: \\n Three new cases have bee...\n",
              "2            11-Mar-2020  ...  Updates: Pakistan: \\n Three new cases have bee...\n",
              "3            11-Mar-2020  ...  Updates: Pakistan: \\n Three new cases have bee...\n",
              "4            11-Mar-2020  ...  Updates: Pakistan: \\n Three new cases have bee...\n",
              "..                   ...  ...                                                ...\n",
              "141  2020-04-03 00:00:00  ...  Updates: Pakistan: \\n During last 24 hours, 15...\n",
              "142  2020-04-03 00:00:00  ...  Updates: Pakistan: \\n During last 24 hours, 15...\n",
              "143  2020-04-03 00:00:00  ...  Updates: Pakistan: \\n During last 24 hours, 15...\n",
              "144  2020-04-03 00:00:00  ...  Updates: Pakistan: \\n During last 24 hours, 15...\n",
              "145  2020-04-03 00:00:00  ...  Updates: Pakistan: \\n During last 24 hours, 15...\n",
              "\n",
              "[146 rows x 3 columns]"
            ]
          },
          "metadata": {
            "tags": []
          },
          "execution_count": 9
        }
      ]
    },
    {
      "cell_type": "code",
      "metadata": {
        "id": "izOm5AODRSrG",
        "colab_type": "code",
        "outputId": "5d8d12c9-6f64-4ba2-c554-7423a14bc6d4",
        "colab": {
          "base_uri": "https://localhost:8080/",
          "height": 218
        }
      },
      "source": [
        "cv.rename(columns={'Agg News':'Agg_News'},inplace=True)\n",
        "cv['Date']=pd.to_datetime(cv.Date)\n",
        "cv['Date']\n"
      ],
      "execution_count": 0,
      "outputs": [
        {
          "output_type": "execute_result",
          "data": {
            "text/plain": [
              "0     2020-03-11\n",
              "1     2020-03-11\n",
              "2     2020-03-11\n",
              "3     2020-03-11\n",
              "4     2020-03-11\n",
              "         ...    \n",
              "141   2020-04-03\n",
              "142   2020-04-03\n",
              "143   2020-04-03\n",
              "144   2020-04-03\n",
              "145   2020-04-03\n",
              "Name: Date, Length: 146, dtype: datetime64[ns]"
            ]
          },
          "metadata": {
            "tags": []
          },
          "execution_count": 11
        }
      ]
    },
    {
      "cell_type": "code",
      "metadata": {
        "id": "daydLdmaRj8X",
        "colab_type": "code",
        "outputId": "c41a8002-4340-46cc-918e-6ca8bd7339d3",
        "colab": {
          "base_uri": "https://localhost:8080/",
          "height": 84
        }
      },
      "source": [
        "cv.dtypes\n"
      ],
      "execution_count": 0,
      "outputs": [
        {
          "output_type": "execute_result",
          "data": {
            "text/plain": [
              "Date        datetime64[ns]\n",
              "News                object\n",
              "Agg_News            object\n",
              "dtype: object"
            ]
          },
          "metadata": {
            "tags": []
          },
          "execution_count": 13
        }
      ]
    },
    {
      "cell_type": "code",
      "metadata": {
        "id": "TylCU1iURvSa",
        "colab_type": "code",
        "outputId": "b5dd9856-9e8a-4a52-d212-c94d8f440561",
        "colab": {
          "base_uri": "https://localhost:8080/",
          "height": 34
        }
      },
      "source": [
        "cv.index"
      ],
      "execution_count": 0,
      "outputs": [
        {
          "output_type": "execute_result",
          "data": {
            "text/plain": [
              "RangeIndex(start=0, stop=146, step=1)"
            ]
          },
          "metadata": {
            "tags": []
          },
          "execution_count": 14
        }
      ]
    },
    {
      "cell_type": "code",
      "metadata": {
        "id": "ViTiMKVcRxfm",
        "colab_type": "code",
        "outputId": "76a811e9-1c32-46b8-cd99-06cca4ba4735",
        "colab": {
          "base_uri": "https://localhost:8080/",
          "height": 84
        }
      },
      "source": [
        "cv.isnull().sum()\n"
      ],
      "execution_count": 0,
      "outputs": [
        {
          "output_type": "execute_result",
          "data": {
            "text/plain": [
              "Date        0\n",
              "News        0\n",
              "Agg_News    0\n",
              "dtype: int64"
            ]
          },
          "metadata": {
            "tags": []
          },
          "execution_count": 15
        }
      ]
    },
    {
      "cell_type": "code",
      "metadata": {
        "id": "it_Kn-snR3VR",
        "colab_type": "code",
        "outputId": "96721756-966c-440c-e2bd-85c322e281e1",
        "colab": {
          "base_uri": "https://localhost:8080/",
          "height": 34
        }
      },
      "source": [
        "cv.columns\n"
      ],
      "execution_count": 0,
      "outputs": [
        {
          "output_type": "execute_result",
          "data": {
            "text/plain": [
              "Index(['Date', 'News', 'Agg_News'], dtype='object')"
            ]
          },
          "metadata": {
            "tags": []
          },
          "execution_count": 16
        }
      ]
    },
    {
      "cell_type": "code",
      "metadata": {
        "id": "kthx0KeGR5z3",
        "colab_type": "code",
        "outputId": "261cbdf6-95b3-49fa-8e92-6b69725efff1",
        "colab": {
          "base_uri": "https://localhost:8080/",
          "height": 225
        }
      },
      "source": [
        "cv.describe()\n"
      ],
      "execution_count": 0,
      "outputs": [
        {
          "output_type": "execute_result",
          "data": {
            "text/html": [
              "<div>\n",
              "<style scoped>\n",
              "    .dataframe tbody tr th:only-of-type {\n",
              "        vertical-align: middle;\n",
              "    }\n",
              "\n",
              "    .dataframe tbody tr th {\n",
              "        vertical-align: top;\n",
              "    }\n",
              "\n",
              "    .dataframe thead th {\n",
              "        text-align: right;\n",
              "    }\n",
              "</style>\n",
              "<table border=\"1\" class=\"dataframe\">\n",
              "  <thead>\n",
              "    <tr style=\"text-align: right;\">\n",
              "      <th></th>\n",
              "      <th>Date</th>\n",
              "      <th>News</th>\n",
              "      <th>Agg_News</th>\n",
              "    </tr>\n",
              "  </thead>\n",
              "  <tbody>\n",
              "    <tr>\n",
              "      <th>count</th>\n",
              "      <td>146</td>\n",
              "      <td>146</td>\n",
              "      <td>146</td>\n",
              "    </tr>\n",
              "    <tr>\n",
              "      <th>unique</th>\n",
              "      <td>24</td>\n",
              "      <td>97</td>\n",
              "      <td>24</td>\n",
              "    </tr>\n",
              "    <tr>\n",
              "      <th>top</th>\n",
              "      <td>2020-04-03 00:00:00</td>\n",
              "      <td>Global:</td>\n",
              "      <td>Updates: Pakistan: \\n During last 24 hours, 99...</td>\n",
              "    </tr>\n",
              "    <tr>\n",
              "      <th>freq</th>\n",
              "      <td>7</td>\n",
              "      <td>24</td>\n",
              "      <td>7</td>\n",
              "    </tr>\n",
              "    <tr>\n",
              "      <th>first</th>\n",
              "      <td>2020-03-11 00:00:00</td>\n",
              "      <td>NaN</td>\n",
              "      <td>NaN</td>\n",
              "    </tr>\n",
              "    <tr>\n",
              "      <th>last</th>\n",
              "      <td>2020-04-03 00:00:00</td>\n",
              "      <td>NaN</td>\n",
              "      <td>NaN</td>\n",
              "    </tr>\n",
              "  </tbody>\n",
              "</table>\n",
              "</div>"
            ],
            "text/plain": [
              "                       Date  ...                                           Agg_News\n",
              "count                   146  ...                                                146\n",
              "unique                   24  ...                                                 24\n",
              "top     2020-04-03 00:00:00  ...  Updates: Pakistan: \\n During last 24 hours, 99...\n",
              "freq                      7  ...                                                  7\n",
              "first   2020-03-11 00:00:00  ...                                                NaN\n",
              "last    2020-04-03 00:00:00  ...                                                NaN\n",
              "\n",
              "[6 rows x 3 columns]"
            ]
          },
          "metadata": {
            "tags": []
          },
          "execution_count": 17
        }
      ]
    },
    {
      "cell_type": "code",
      "metadata": {
        "id": "rpYy1Gq8SD4V",
        "colab_type": "code",
        "colab": {}
      },
      "source": [
        "cv.to_excel('/content/TimeSeries_COVID_News.xlsx')\n"
      ],
      "execution_count": 0,
      "outputs": []
    }
  ]
}