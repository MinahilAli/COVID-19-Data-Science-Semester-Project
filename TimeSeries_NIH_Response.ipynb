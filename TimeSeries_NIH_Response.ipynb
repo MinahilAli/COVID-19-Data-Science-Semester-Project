{
  "nbformat": 4,
  "nbformat_minor": 0,
  "metadata": {
    "colab": {
      "name": "TimeSeries_NIH_Response.ipynb",
      "provenance": [],
      "collapsed_sections": []
    },
    "kernelspec": {
      "name": "python3",
      "display_name": "Python 3"
    }
  },
  "cells": [
    {
      "cell_type": "code",
      "metadata": {
        "id": "jlbv2PLUu_c0",
        "colab_type": "code",
        "colab": {}
      },
      "source": [
        "import pandas as pd\n",
        "import numpy as np"
      ],
      "execution_count": 0,
      "outputs": []
    },
    {
      "cell_type": "code",
      "metadata": {
        "id": "Okk8GXoQvUIE",
        "colab_type": "code",
        "colab": {}
      },
      "source": [
        "c_v=pd.read_excel('/content/TimeSeries_NIH_Response.xlsx')\n"
      ],
      "execution_count": 0,
      "outputs": []
    },
    {
      "cell_type": "code",
      "metadata": {
        "id": "wUenh6a8vUK6",
        "colab_type": "code",
        "colab": {
          "base_uri": "https://localhost:8080/",
          "height": 586
        },
        "outputId": "5c68d603-b9e0-44d6-e7df-cf2d70fd91b5"
      },
      "source": [
        "c_v"
      ],
      "execution_count": 3,
      "outputs": [
        {
          "output_type": "execute_result",
          "data": {
            "text/html": [
              "<div>\n",
              "<style scoped>\n",
              "    .dataframe tbody tr th:only-of-type {\n",
              "        vertical-align: middle;\n",
              "    }\n",
              "\n",
              "    .dataframe tbody tr th {\n",
              "        vertical-align: top;\n",
              "    }\n",
              "\n",
              "    .dataframe thead th {\n",
              "        text-align: right;\n",
              "    }\n",
              "</style>\n",
              "<table border=\"1\" class=\"dataframe\">\n",
              "  <thead>\n",
              "    <tr style=\"text-align: right;\">\n",
              "      <th></th>\n",
              "      <th>Unnamed: 0</th>\n",
              "      <th>Date</th>\n",
              "      <th>NIH Preparedness and Response</th>\n",
              "      <th>Agg NIH Preparedness and Response</th>\n",
              "    </tr>\n",
              "  </thead>\n",
              "  <tbody>\n",
              "    <tr>\n",
              "      <th>0</th>\n",
              "      <td>0</td>\n",
              "      <td>11-Mar-2020</td>\n",
              "      <td>BSL-3 mobile lab with state of art equipment h...</td>\n",
              "      <td>BSL-3 mobile lab with state of art equipment h...</td>\n",
              "    </tr>\n",
              "    <tr>\n",
              "      <th>1</th>\n",
              "      <td>1</td>\n",
              "      <td>11-Mar-2020</td>\n",
              "      <td>IPC trainings have been completed at Gilgit an...</td>\n",
              "      <td>BSL-3 mobile lab with state of art equipment h...</td>\n",
              "    </tr>\n",
              "    <tr>\n",
              "      <th>2</th>\n",
              "      <td>2</td>\n",
              "      <td>11-Mar-2020</td>\n",
              "      <td>Training of the GB lab staff has been conducte...</td>\n",
              "      <td>BSL-3 mobile lab with state of art equipment h...</td>\n",
              "    </tr>\n",
              "    <tr>\n",
              "      <th>3</th>\n",
              "      <td>3</td>\n",
              "      <td>11-Mar-2020</td>\n",
              "      <td>IPC training is in progress for FG Hospital st...</td>\n",
              "      <td>BSL-3 mobile lab with state of art equipment h...</td>\n",
              "    </tr>\n",
              "    <tr>\n",
              "      <th>4</th>\n",
              "      <td>0</td>\n",
              "      <td>12-Mar-2020</td>\n",
              "      <td>BSL-3 mobile lab is ready for testing.  •</td>\n",
              "      <td>BSL-3 mobile lab is ready for testing.  • \\n I...</td>\n",
              "    </tr>\n",
              "    <tr>\n",
              "      <th>...</th>\n",
              "      <td>...</td>\n",
              "      <td>...</td>\n",
              "      <td>...</td>\n",
              "      <td>...</td>\n",
              "    </tr>\n",
              "    <tr>\n",
              "      <th>60</th>\n",
              "      <td>1</td>\n",
              "      <td>2020-04-02 00:00:00</td>\n",
              "      <td>Risk communication carried out among healthcar...</td>\n",
              "      <td>Contact tracing of confirmed cases being carri...</td>\n",
              "    </tr>\n",
              "    <tr>\n",
              "      <th>61</th>\n",
              "      <td>2</td>\n",
              "      <td>2020-04-02 00:00:00</td>\n",
              "      <td>NIH laboratory is providing support to provinc...</td>\n",
              "      <td>Contact tracing of confirmed cases being carri...</td>\n",
              "    </tr>\n",
              "    <tr>\n",
              "      <th>62</th>\n",
              "      <td>0</td>\n",
              "      <td>2020-04-03 00:00:00</td>\n",
              "      <td>Contact tracing of confirmed cases being carri...</td>\n",
              "      <td>Contact tracing of confirmed cases being carri...</td>\n",
              "    </tr>\n",
              "    <tr>\n",
              "      <th>63</th>\n",
              "      <td>1</td>\n",
              "      <td>2020-04-03 00:00:00</td>\n",
              "      <td>Risk communication carried out among healthcar...</td>\n",
              "      <td>Contact tracing of confirmed cases being carri...</td>\n",
              "    </tr>\n",
              "    <tr>\n",
              "      <th>64</th>\n",
              "      <td>2</td>\n",
              "      <td>2020-04-03 00:00:00</td>\n",
              "      <td>NIH laboratory is providing support to provinc...</td>\n",
              "      <td>Contact tracing of confirmed cases being carri...</td>\n",
              "    </tr>\n",
              "  </tbody>\n",
              "</table>\n",
              "<p>65 rows × 4 columns</p>\n",
              "</div>"
            ],
            "text/plain": [
              "    Unnamed: 0  ...                  Agg NIH Preparedness and Response\n",
              "0            0  ...  BSL-3 mobile lab with state of art equipment h...\n",
              "1            1  ...  BSL-3 mobile lab with state of art equipment h...\n",
              "2            2  ...  BSL-3 mobile lab with state of art equipment h...\n",
              "3            3  ...  BSL-3 mobile lab with state of art equipment h...\n",
              "4            0  ...  BSL-3 mobile lab is ready for testing.  • \\n I...\n",
              "..         ...  ...                                                ...\n",
              "60           1  ...  Contact tracing of confirmed cases being carri...\n",
              "61           2  ...  Contact tracing of confirmed cases being carri...\n",
              "62           0  ...  Contact tracing of confirmed cases being carri...\n",
              "63           1  ...  Contact tracing of confirmed cases being carri...\n",
              "64           2  ...  Contact tracing of confirmed cases being carri...\n",
              "\n",
              "[65 rows x 4 columns]"
            ]
          },
          "metadata": {
            "tags": []
          },
          "execution_count": 3
        }
      ]
    },
    {
      "cell_type": "code",
      "metadata": {
        "id": "sB4pRnravUPt",
        "colab_type": "code",
        "colab": {
          "base_uri": "https://localhost:8080/",
          "height": 586
        },
        "outputId": "561ac425-c5b5-41fb-975f-4c61cbaceefb"
      },
      "source": [
        "c_v.drop('Unnamed: 0',axis=1,inplace=True)\n",
        "c_v"
      ],
      "execution_count": 4,
      "outputs": [
        {
          "output_type": "execute_result",
          "data": {
            "text/html": [
              "<div>\n",
              "<style scoped>\n",
              "    .dataframe tbody tr th:only-of-type {\n",
              "        vertical-align: middle;\n",
              "    }\n",
              "\n",
              "    .dataframe tbody tr th {\n",
              "        vertical-align: top;\n",
              "    }\n",
              "\n",
              "    .dataframe thead th {\n",
              "        text-align: right;\n",
              "    }\n",
              "</style>\n",
              "<table border=\"1\" class=\"dataframe\">\n",
              "  <thead>\n",
              "    <tr style=\"text-align: right;\">\n",
              "      <th></th>\n",
              "      <th>Date</th>\n",
              "      <th>NIH Preparedness and Response</th>\n",
              "      <th>Agg NIH Preparedness and Response</th>\n",
              "    </tr>\n",
              "  </thead>\n",
              "  <tbody>\n",
              "    <tr>\n",
              "      <th>0</th>\n",
              "      <td>11-Mar-2020</td>\n",
              "      <td>BSL-3 mobile lab with state of art equipment h...</td>\n",
              "      <td>BSL-3 mobile lab with state of art equipment h...</td>\n",
              "    </tr>\n",
              "    <tr>\n",
              "      <th>1</th>\n",
              "      <td>11-Mar-2020</td>\n",
              "      <td>IPC trainings have been completed at Gilgit an...</td>\n",
              "      <td>BSL-3 mobile lab with state of art equipment h...</td>\n",
              "    </tr>\n",
              "    <tr>\n",
              "      <th>2</th>\n",
              "      <td>11-Mar-2020</td>\n",
              "      <td>Training of the GB lab staff has been conducte...</td>\n",
              "      <td>BSL-3 mobile lab with state of art equipment h...</td>\n",
              "    </tr>\n",
              "    <tr>\n",
              "      <th>3</th>\n",
              "      <td>11-Mar-2020</td>\n",
              "      <td>IPC training is in progress for FG Hospital st...</td>\n",
              "      <td>BSL-3 mobile lab with state of art equipment h...</td>\n",
              "    </tr>\n",
              "    <tr>\n",
              "      <th>4</th>\n",
              "      <td>12-Mar-2020</td>\n",
              "      <td>BSL-3 mobile lab is ready for testing.  •</td>\n",
              "      <td>BSL-3 mobile lab is ready for testing.  • \\n I...</td>\n",
              "    </tr>\n",
              "    <tr>\n",
              "      <th>...</th>\n",
              "      <td>...</td>\n",
              "      <td>...</td>\n",
              "      <td>...</td>\n",
              "    </tr>\n",
              "    <tr>\n",
              "      <th>60</th>\n",
              "      <td>2020-04-02 00:00:00</td>\n",
              "      <td>Risk communication carried out among healthcar...</td>\n",
              "      <td>Contact tracing of confirmed cases being carri...</td>\n",
              "    </tr>\n",
              "    <tr>\n",
              "      <th>61</th>\n",
              "      <td>2020-04-02 00:00:00</td>\n",
              "      <td>NIH laboratory is providing support to provinc...</td>\n",
              "      <td>Contact tracing of confirmed cases being carri...</td>\n",
              "    </tr>\n",
              "    <tr>\n",
              "      <th>62</th>\n",
              "      <td>2020-04-03 00:00:00</td>\n",
              "      <td>Contact tracing of confirmed cases being carri...</td>\n",
              "      <td>Contact tracing of confirmed cases being carri...</td>\n",
              "    </tr>\n",
              "    <tr>\n",
              "      <th>63</th>\n",
              "      <td>2020-04-03 00:00:00</td>\n",
              "      <td>Risk communication carried out among healthcar...</td>\n",
              "      <td>Contact tracing of confirmed cases being carri...</td>\n",
              "    </tr>\n",
              "    <tr>\n",
              "      <th>64</th>\n",
              "      <td>2020-04-03 00:00:00</td>\n",
              "      <td>NIH laboratory is providing support to provinc...</td>\n",
              "      <td>Contact tracing of confirmed cases being carri...</td>\n",
              "    </tr>\n",
              "  </tbody>\n",
              "</table>\n",
              "<p>65 rows × 3 columns</p>\n",
              "</div>"
            ],
            "text/plain": [
              "                   Date  ...                  Agg NIH Preparedness and Response\n",
              "0           11-Mar-2020  ...  BSL-3 mobile lab with state of art equipment h...\n",
              "1           11-Mar-2020  ...  BSL-3 mobile lab with state of art equipment h...\n",
              "2           11-Mar-2020  ...  BSL-3 mobile lab with state of art equipment h...\n",
              "3           11-Mar-2020  ...  BSL-3 mobile lab with state of art equipment h...\n",
              "4           12-Mar-2020  ...  BSL-3 mobile lab is ready for testing.  • \\n I...\n",
              "..                  ...  ...                                                ...\n",
              "60  2020-04-02 00:00:00  ...  Contact tracing of confirmed cases being carri...\n",
              "61  2020-04-02 00:00:00  ...  Contact tracing of confirmed cases being carri...\n",
              "62  2020-04-03 00:00:00  ...  Contact tracing of confirmed cases being carri...\n",
              "63  2020-04-03 00:00:00  ...  Contact tracing of confirmed cases being carri...\n",
              "64  2020-04-03 00:00:00  ...  Contact tracing of confirmed cases being carri...\n",
              "\n",
              "[65 rows x 3 columns]"
            ]
          },
          "metadata": {
            "tags": []
          },
          "execution_count": 4
        }
      ]
    },
    {
      "cell_type": "code",
      "metadata": {
        "id": "o7XMR3OMvUXq",
        "colab_type": "code",
        "colab": {
          "base_uri": "https://localhost:8080/",
          "height": 279
        },
        "outputId": "166d88aa-e159-4a07-c09f-ab65698c9ffc"
      },
      "source": [
        "c_v.columns=c_v.columns.str.strip().str.replace(' ','_')\n",
        "c_v.head()"
      ],
      "execution_count": 6,
      "outputs": [
        {
          "output_type": "execute_result",
          "data": {
            "text/html": [
              "<div>\n",
              "<style scoped>\n",
              "    .dataframe tbody tr th:only-of-type {\n",
              "        vertical-align: middle;\n",
              "    }\n",
              "\n",
              "    .dataframe tbody tr th {\n",
              "        vertical-align: top;\n",
              "    }\n",
              "\n",
              "    .dataframe thead th {\n",
              "        text-align: right;\n",
              "    }\n",
              "</style>\n",
              "<table border=\"1\" class=\"dataframe\">\n",
              "  <thead>\n",
              "    <tr style=\"text-align: right;\">\n",
              "      <th></th>\n",
              "      <th>Date</th>\n",
              "      <th>NIH_Preparedness_and_Response</th>\n",
              "      <th>Agg_NIH_Preparedness_and_Response</th>\n",
              "    </tr>\n",
              "  </thead>\n",
              "  <tbody>\n",
              "    <tr>\n",
              "      <th>0</th>\n",
              "      <td>11-Mar-2020</td>\n",
              "      <td>BSL-3 mobile lab with state of art equipment h...</td>\n",
              "      <td>BSL-3 mobile lab with state of art equipment h...</td>\n",
              "    </tr>\n",
              "    <tr>\n",
              "      <th>1</th>\n",
              "      <td>11-Mar-2020</td>\n",
              "      <td>IPC trainings have been completed at Gilgit an...</td>\n",
              "      <td>BSL-3 mobile lab with state of art equipment h...</td>\n",
              "    </tr>\n",
              "    <tr>\n",
              "      <th>2</th>\n",
              "      <td>11-Mar-2020</td>\n",
              "      <td>Training of the GB lab staff has been conducte...</td>\n",
              "      <td>BSL-3 mobile lab with state of art equipment h...</td>\n",
              "    </tr>\n",
              "    <tr>\n",
              "      <th>3</th>\n",
              "      <td>11-Mar-2020</td>\n",
              "      <td>IPC training is in progress for FG Hospital st...</td>\n",
              "      <td>BSL-3 mobile lab with state of art equipment h...</td>\n",
              "    </tr>\n",
              "    <tr>\n",
              "      <th>4</th>\n",
              "      <td>12-Mar-2020</td>\n",
              "      <td>BSL-3 mobile lab is ready for testing.  •</td>\n",
              "      <td>BSL-3 mobile lab is ready for testing.  • \\n I...</td>\n",
              "    </tr>\n",
              "  </tbody>\n",
              "</table>\n",
              "</div>"
            ],
            "text/plain": [
              "          Date  ...                  Agg_NIH_Preparedness_and_Response\n",
              "0  11-Mar-2020  ...  BSL-3 mobile lab with state of art equipment h...\n",
              "1  11-Mar-2020  ...  BSL-3 mobile lab with state of art equipment h...\n",
              "2  11-Mar-2020  ...  BSL-3 mobile lab with state of art equipment h...\n",
              "3  11-Mar-2020  ...  BSL-3 mobile lab with state of art equipment h...\n",
              "4  12-Mar-2020  ...  BSL-3 mobile lab is ready for testing.  • \\n I...\n",
              "\n",
              "[5 rows x 3 columns]"
            ]
          },
          "metadata": {
            "tags": []
          },
          "execution_count": 6
        }
      ]
    },
    {
      "cell_type": "code",
      "metadata": {
        "id": "2ggceUeXvUiK",
        "colab_type": "code",
        "colab": {
          "base_uri": "https://localhost:8080/",
          "height": 218
        },
        "outputId": "ed1731f5-2c45-44ad-a8bf-82510aea6103"
      },
      "source": [
        "c_v['Date']=pd.to_datetime(c_v.Date)\n",
        "c_v['Date']\n"
      ],
      "execution_count": 10,
      "outputs": [
        {
          "output_type": "execute_result",
          "data": {
            "text/plain": [
              "0    2020-03-11\n",
              "1    2020-03-11\n",
              "2    2020-03-11\n",
              "3    2020-03-11\n",
              "4    2020-03-12\n",
              "        ...    \n",
              "60   2020-04-02\n",
              "61   2020-04-02\n",
              "62   2020-04-03\n",
              "63   2020-04-03\n",
              "64   2020-04-03\n",
              "Name: Date, Length: 65, dtype: datetime64[ns]"
            ]
          },
          "metadata": {
            "tags": []
          },
          "execution_count": 10
        }
      ]
    },
    {
      "cell_type": "markdown",
      "metadata": {
        "id": "xCBvi2E7wSNS",
        "colab_type": "text"
      },
      "source": [
        "# **Cleaned Data**"
      ]
    },
    {
      "cell_type": "code",
      "metadata": {
        "id": "4KlL7fcEvUp9",
        "colab_type": "code",
        "colab": {
          "base_uri": "https://localhost:8080/",
          "height": 275
        },
        "outputId": "51519c7b-dfe4-42aa-82a9-51fb7d41fbab"
      },
      "source": [
        "c_v.describe() \n"
      ],
      "execution_count": 11,
      "outputs": [
        {
          "output_type": "execute_result",
          "data": {
            "text/html": [
              "<div>\n",
              "<style scoped>\n",
              "    .dataframe tbody tr th:only-of-type {\n",
              "        vertical-align: middle;\n",
              "    }\n",
              "\n",
              "    .dataframe tbody tr th {\n",
              "        vertical-align: top;\n",
              "    }\n",
              "\n",
              "    .dataframe thead th {\n",
              "        text-align: right;\n",
              "    }\n",
              "</style>\n",
              "<table border=\"1\" class=\"dataframe\">\n",
              "  <thead>\n",
              "    <tr style=\"text-align: right;\">\n",
              "      <th></th>\n",
              "      <th>Date</th>\n",
              "      <th>NIH_Preparedness_and_Response</th>\n",
              "      <th>Agg_NIH_Preparedness_and_Response</th>\n",
              "    </tr>\n",
              "  </thead>\n",
              "  <tbody>\n",
              "    <tr>\n",
              "      <th>count</th>\n",
              "      <td>65</td>\n",
              "      <td>65</td>\n",
              "      <td>65</td>\n",
              "    </tr>\n",
              "    <tr>\n",
              "      <th>unique</th>\n",
              "      <td>24</td>\n",
              "      <td>21</td>\n",
              "      <td>11</td>\n",
              "    </tr>\n",
              "    <tr>\n",
              "      <th>top</th>\n",
              "      <td>2020-03-11 00:00:00</td>\n",
              "      <td>NIH laboratory is providing support to provinc...</td>\n",
              "      <td>Contact tracing of confirmed cases being carri...</td>\n",
              "    </tr>\n",
              "    <tr>\n",
              "      <th>freq</th>\n",
              "      <td>4</td>\n",
              "      <td>9</td>\n",
              "      <td>21</td>\n",
              "    </tr>\n",
              "    <tr>\n",
              "      <th>first</th>\n",
              "      <td>2020-03-11 00:00:00</td>\n",
              "      <td>NaN</td>\n",
              "      <td>NaN</td>\n",
              "    </tr>\n",
              "    <tr>\n",
              "      <th>last</th>\n",
              "      <td>2020-04-03 00:00:00</td>\n",
              "      <td>NaN</td>\n",
              "      <td>NaN</td>\n",
              "    </tr>\n",
              "  </tbody>\n",
              "</table>\n",
              "</div>"
            ],
            "text/plain": [
              "                       Date  ...                  Agg_NIH_Preparedness_and_Response\n",
              "count                    65  ...                                                 65\n",
              "unique                   24  ...                                                 11\n",
              "top     2020-03-11 00:00:00  ...  Contact tracing of confirmed cases being carri...\n",
              "freq                      4  ...                                                 21\n",
              "first   2020-03-11 00:00:00  ...                                                NaN\n",
              "last    2020-04-03 00:00:00  ...                                                NaN\n",
              "\n",
              "[6 rows x 3 columns]"
            ]
          },
          "metadata": {
            "tags": []
          },
          "execution_count": 11
        }
      ]
    },
    {
      "cell_type": "markdown",
      "metadata": {
        "id": "bPAt4txewaaQ",
        "colab_type": "text"
      },
      "source": [
        "# **Saving Data back to Excel file**"
      ]
    },
    {
      "cell_type": "code",
      "metadata": {
        "id": "wxuVxdrovUnm",
        "colab_type": "code",
        "colab": {}
      },
      "source": [
        "c_v.to_excel(\"/content/TimeSeries_NIH_Response.xlsx\")"
      ],
      "execution_count": 0,
      "outputs": []
    }
  ]
}