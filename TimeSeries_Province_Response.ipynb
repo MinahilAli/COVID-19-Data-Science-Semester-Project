{
  "nbformat": 4,
  "nbformat_minor": 0,
  "metadata": {
    "colab": {
      "name": "TimeSeries_Province_Response.ipynb",
      "provenance": [],
      "collapsed_sections": []
    },
    "kernelspec": {
      "name": "python3",
      "display_name": "Python 3"
    }
  },
  "cells": [
    {
      "cell_type": "code",
      "metadata": {
        "id": "ALR_Tspn0MSI",
        "colab_type": "code",
        "colab": {}
      },
      "source": [
        "\n",
        "import pandas as pd\n",
        "import numpy as np"
      ],
      "execution_count": 0,
      "outputs": []
    },
    {
      "cell_type": "code",
      "metadata": {
        "id": "lUle8Gdb06TA",
        "colab_type": "code",
        "colab": {}
      },
      "source": [
        "c_v=pd.read_excel(\"/content/TimeSeries_Province_Response.xlsx\")\n"
      ],
      "execution_count": 0,
      "outputs": []
    },
    {
      "cell_type": "code",
      "metadata": {
        "id": "vc32ARiv09vD",
        "colab_type": "code",
        "colab": {
          "base_uri": "https://localhost:8080/",
          "height": 603
        },
        "outputId": "e91bb127-0656-43f8-d496-5b722b2a1492"
      },
      "source": [
        "c_v"
      ],
      "execution_count": 3,
      "outputs": [
        {
          "output_type": "execute_result",
          "data": {
            "text/html": [
              "<div>\n",
              "<style scoped>\n",
              "    .dataframe tbody tr th:only-of-type {\n",
              "        vertical-align: middle;\n",
              "    }\n",
              "\n",
              "    .dataframe tbody tr th {\n",
              "        vertical-align: top;\n",
              "    }\n",
              "\n",
              "    .dataframe thead th {\n",
              "        text-align: right;\n",
              "    }\n",
              "</style>\n",
              "<table border=\"1\" class=\"dataframe\">\n",
              "  <thead>\n",
              "    <tr style=\"text-align: right;\">\n",
              "      <th></th>\n",
              "      <th>Unnamed: 0</th>\n",
              "      <th>region</th>\n",
              "      <th>Provinces Preparedness and Response</th>\n",
              "      <th>Date</th>\n",
              "      <th>Agg Provinces Preparedness and Response</th>\n",
              "    </tr>\n",
              "  </thead>\n",
              "  <tbody>\n",
              "    <tr>\n",
              "      <th>0</th>\n",
              "      <td>0</td>\n",
              "      <td>Balochistan</td>\n",
              "      <td>316 newly arrived individuals screened and qua...</td>\n",
              "      <td>11-Mar-2020</td>\n",
              "      <td>316 newly arrived individuals screened and qua...</td>\n",
              "    </tr>\n",
              "    <tr>\n",
              "      <th>1</th>\n",
              "      <td>1</td>\n",
              "      <td>Balochistan</td>\n",
              "      <td>14 Chinese nationals quarantined at East Bay E...</td>\n",
              "      <td>11-Mar-2020</td>\n",
              "      <td>316 newly arrived individuals screened and qua...</td>\n",
              "    </tr>\n",
              "    <tr>\n",
              "      <th>2</th>\n",
              "      <td>2</td>\n",
              "      <td>Sindh</td>\n",
              "      <td>Staff deployed to designated quarantine facili...</td>\n",
              "      <td>11-Mar-2020</td>\n",
              "      <td>Staff deployed to designated quarantine facili...</td>\n",
              "    </tr>\n",
              "    <tr>\n",
              "      <th>3</th>\n",
              "      <td>3</td>\n",
              "      <td>Sindh</td>\n",
              "      <td>Training and orientation sessions for the heal...</td>\n",
              "      <td>11-Mar-2020</td>\n",
              "      <td>Staff deployed to designated quarantine facili...</td>\n",
              "    </tr>\n",
              "    <tr>\n",
              "      <th>4</th>\n",
              "      <td>4</td>\n",
              "      <td>KP &amp; TD</td>\n",
              "      <td>24 High Dependency Units established across KP...</td>\n",
              "      <td>11-Mar-2020</td>\n",
              "      <td>24 High Dependency Units established across KP...</td>\n",
              "    </tr>\n",
              "    <tr>\n",
              "      <th>...</th>\n",
              "      <td>...</td>\n",
              "      <td>...</td>\n",
              "      <td>...</td>\n",
              "      <td>...</td>\n",
              "      <td>...</td>\n",
              "    </tr>\n",
              "    <tr>\n",
              "      <th>161</th>\n",
              "      <td>2</td>\n",
              "      <td>Sindh</td>\n",
              "      <td>Sindh Government has disbursed Rs.569.604 mill...</td>\n",
              "      <td>2020-04-03 00:00:00</td>\n",
              "      <td>Sindh Government has disbursed Rs.569.604 mill...</td>\n",
              "    </tr>\n",
              "    <tr>\n",
              "      <th>162</th>\n",
              "      <td>3</td>\n",
              "      <td>Punjab</td>\n",
              "      <td>District level trainings of HDU/Isolation/Quar...</td>\n",
              "      <td>2020-04-03 00:00:00</td>\n",
              "      <td>District level trainings of HDU/Isolation/Quar...</td>\n",
              "    </tr>\n",
              "    <tr>\n",
              "      <th>163</th>\n",
              "      <td>4</td>\n",
              "      <td>KP</td>\n",
              "      <td>Data transcription on to the IPMS software hos...</td>\n",
              "      <td>2020-04-03 00:00:00</td>\n",
              "      <td>Data transcription on to the IPMS software hos...</td>\n",
              "    </tr>\n",
              "    <tr>\n",
              "      <th>164</th>\n",
              "      <td>5</td>\n",
              "      <td>AJK</td>\n",
              "      <td>Out of 9 confirmed cases, 6 are local transmis...</td>\n",
              "      <td>2020-04-03 00:00:00</td>\n",
              "      <td>Out of 9 confirmed cases, 6 are local transmis...</td>\n",
              "    </tr>\n",
              "    <tr>\n",
              "      <th>165</th>\n",
              "      <td>6</td>\n",
              "      <td>GB</td>\n",
              "      <td>Involvement of WHO staff to provide support in...</td>\n",
              "      <td>2020-04-03 00:00:00</td>\n",
              "      <td>Involvement of WHO staff to provide support in...</td>\n",
              "    </tr>\n",
              "  </tbody>\n",
              "</table>\n",
              "<p>166 rows × 5 columns</p>\n",
              "</div>"
            ],
            "text/plain": [
              "     Unnamed: 0  ...            Agg Provinces Preparedness and Response\n",
              "0             0  ...  316 newly arrived individuals screened and qua...\n",
              "1             1  ...  316 newly arrived individuals screened and qua...\n",
              "2             2  ...  Staff deployed to designated quarantine facili...\n",
              "3             3  ...  Staff deployed to designated quarantine facili...\n",
              "4             4  ...  24 High Dependency Units established across KP...\n",
              "..          ...  ...                                                ...\n",
              "161           2  ...  Sindh Government has disbursed Rs.569.604 mill...\n",
              "162           3  ...  District level trainings of HDU/Isolation/Quar...\n",
              "163           4  ...  Data transcription on to the IPMS software hos...\n",
              "164           5  ...  Out of 9 confirmed cases, 6 are local transmis...\n",
              "165           6  ...  Involvement of WHO staff to provide support in...\n",
              "\n",
              "[166 rows x 5 columns]"
            ]
          },
          "metadata": {
            "tags": []
          },
          "execution_count": 3
        }
      ]
    },
    {
      "cell_type": "code",
      "metadata": {
        "id": "X1BsLxFB1SZf",
        "colab_type": "code",
        "colab": {}
      },
      "source": [
        "c_v.columns=c_v.columns.str.strip().str.replace(' ','_')\n"
      ],
      "execution_count": 0,
      "outputs": []
    },
    {
      "cell_type": "code",
      "metadata": {
        "id": "wm9UdjNA1SdG",
        "colab_type": "code",
        "colab": {
          "base_uri": "https://localhost:8080/",
          "height": 590
        },
        "outputId": "67de970a-538c-4018-841b-f5e7c835e2da"
      },
      "source": [
        "c_v"
      ],
      "execution_count": 7,
      "outputs": [
        {
          "output_type": "execute_result",
          "data": {
            "text/html": [
              "<div>\n",
              "<style scoped>\n",
              "    .dataframe tbody tr th:only-of-type {\n",
              "        vertical-align: middle;\n",
              "    }\n",
              "\n",
              "    .dataframe tbody tr th {\n",
              "        vertical-align: top;\n",
              "    }\n",
              "\n",
              "    .dataframe thead th {\n",
              "        text-align: right;\n",
              "    }\n",
              "</style>\n",
              "<table border=\"1\" class=\"dataframe\">\n",
              "  <thead>\n",
              "    <tr style=\"text-align: right;\">\n",
              "      <th></th>\n",
              "      <th>region</th>\n",
              "      <th>Provinces_Preparedness_and_Response</th>\n",
              "      <th>Date</th>\n",
              "      <th>Agg_Provinces_Preparedness_and_Response</th>\n",
              "    </tr>\n",
              "  </thead>\n",
              "  <tbody>\n",
              "    <tr>\n",
              "      <th>0</th>\n",
              "      <td>Balochistan</td>\n",
              "      <td>316 newly arrived individuals screened and qua...</td>\n",
              "      <td>2020-03-11</td>\n",
              "      <td>316 newly arrived individuals screened and qua...</td>\n",
              "    </tr>\n",
              "    <tr>\n",
              "      <th>1</th>\n",
              "      <td>Balochistan</td>\n",
              "      <td>14 Chinese nationals quarantined at East Bay E...</td>\n",
              "      <td>2020-03-11</td>\n",
              "      <td>316 newly arrived individuals screened and qua...</td>\n",
              "    </tr>\n",
              "    <tr>\n",
              "      <th>2</th>\n",
              "      <td>Sindh</td>\n",
              "      <td>Staff deployed to designated quarantine facili...</td>\n",
              "      <td>2020-03-11</td>\n",
              "      <td>Staff deployed to designated quarantine facili...</td>\n",
              "    </tr>\n",
              "    <tr>\n",
              "      <th>3</th>\n",
              "      <td>Sindh</td>\n",
              "      <td>Training and orientation sessions for the heal...</td>\n",
              "      <td>2020-03-11</td>\n",
              "      <td>Staff deployed to designated quarantine facili...</td>\n",
              "    </tr>\n",
              "    <tr>\n",
              "      <th>4</th>\n",
              "      <td>KP &amp; TD</td>\n",
              "      <td>24 High Dependency Units established across KP...</td>\n",
              "      <td>2020-03-11</td>\n",
              "      <td>24 High Dependency Units established across KP...</td>\n",
              "    </tr>\n",
              "    <tr>\n",
              "      <th>...</th>\n",
              "      <td>...</td>\n",
              "      <td>...</td>\n",
              "      <td>...</td>\n",
              "      <td>...</td>\n",
              "    </tr>\n",
              "    <tr>\n",
              "      <th>161</th>\n",
              "      <td>Sindh</td>\n",
              "      <td>Sindh Government has disbursed Rs.569.604 mill...</td>\n",
              "      <td>2020-04-03</td>\n",
              "      <td>Sindh Government has disbursed Rs.569.604 mill...</td>\n",
              "    </tr>\n",
              "    <tr>\n",
              "      <th>162</th>\n",
              "      <td>Punjab</td>\n",
              "      <td>District level trainings of HDU/Isolation/Quar...</td>\n",
              "      <td>2020-04-03</td>\n",
              "      <td>District level trainings of HDU/Isolation/Quar...</td>\n",
              "    </tr>\n",
              "    <tr>\n",
              "      <th>163</th>\n",
              "      <td>KP</td>\n",
              "      <td>Data transcription on to the IPMS software hos...</td>\n",
              "      <td>2020-04-03</td>\n",
              "      <td>Data transcription on to the IPMS software hos...</td>\n",
              "    </tr>\n",
              "    <tr>\n",
              "      <th>164</th>\n",
              "      <td>AJK</td>\n",
              "      <td>Out of 9 confirmed cases, 6 are local transmis...</td>\n",
              "      <td>2020-04-03</td>\n",
              "      <td>Out of 9 confirmed cases, 6 are local transmis...</td>\n",
              "    </tr>\n",
              "    <tr>\n",
              "      <th>165</th>\n",
              "      <td>GB</td>\n",
              "      <td>Involvement of WHO staff to provide support in...</td>\n",
              "      <td>2020-04-03</td>\n",
              "      <td>Involvement of WHO staff to provide support in...</td>\n",
              "    </tr>\n",
              "  </tbody>\n",
              "</table>\n",
              "<p>166 rows × 4 columns</p>\n",
              "</div>"
            ],
            "text/plain": [
              "          region  ...            Agg_Provinces_Preparedness_and_Response\n",
              "0    Balochistan  ...  316 newly arrived individuals screened and qua...\n",
              "1    Balochistan  ...  316 newly arrived individuals screened and qua...\n",
              "2          Sindh  ...  Staff deployed to designated quarantine facili...\n",
              "3          Sindh  ...  Staff deployed to designated quarantine facili...\n",
              "4        KP & TD  ...  24 High Dependency Units established across KP...\n",
              "..           ...  ...                                                ...\n",
              "161        Sindh  ...  Sindh Government has disbursed Rs.569.604 mill...\n",
              "162       Punjab  ...  District level trainings of HDU/Isolation/Quar...\n",
              "163           KP  ...  Data transcription on to the IPMS software hos...\n",
              "164          AJK  ...  Out of 9 confirmed cases, 6 are local transmis...\n",
              "165           GB  ...  Involvement of WHO staff to provide support in...\n",
              "\n",
              "[166 rows x 4 columns]"
            ]
          },
          "metadata": {
            "tags": []
          },
          "execution_count": 7
        }
      ]
    },
    {
      "cell_type": "code",
      "metadata": {
        "id": "HFyKr_4m0-Us",
        "colab_type": "code",
        "colab": {}
      },
      "source": [
        "c_v.drop('Unnamed: 0',axis=1,inplace=True)\n"
      ],
      "execution_count": 0,
      "outputs": []
    },
    {
      "cell_type": "code",
      "metadata": {
        "id": "RbTnBwYM1D2W",
        "colab_type": "code",
        "colab": {
          "base_uri": "https://localhost:8080/",
          "height": 218
        },
        "outputId": "40c3be27-504c-4ed5-cdbe-835d1edbdb66"
      },
      "source": [
        "c_v['Date']=pd.to_datetime(c_v.Date)\n",
        "c_v['Date']"
      ],
      "execution_count": 5,
      "outputs": [
        {
          "output_type": "execute_result",
          "data": {
            "text/plain": [
              "0     2020-03-11\n",
              "1     2020-03-11\n",
              "2     2020-03-11\n",
              "3     2020-03-11\n",
              "4     2020-03-11\n",
              "         ...    \n",
              "161   2020-04-03\n",
              "162   2020-04-03\n",
              "163   2020-04-03\n",
              "164   2020-04-03\n",
              "165   2020-04-03\n",
              "Name: Date, Length: 166, dtype: datetime64[ns]"
            ]
          },
          "metadata": {
            "tags": []
          },
          "execution_count": 5
        }
      ]
    },
    {
      "cell_type": "markdown",
      "metadata": {
        "id": "HZwTN1hv1d_u",
        "colab_type": "text"
      },
      "source": [
        "# **Cleaned Data**"
      ]
    },
    {
      "cell_type": "code",
      "metadata": {
        "id": "dUsfWZjw1LAf",
        "colab_type": "code",
        "colab": {
          "base_uri": "https://localhost:8080/",
          "height": 346
        },
        "outputId": "e884590d-67b7-45bb-86d6-afe2c8c52a97"
      },
      "source": [
        "c_v.describe() \n"
      ],
      "execution_count": 8,
      "outputs": [
        {
          "output_type": "execute_result",
          "data": {
            "text/html": [
              "<div>\n",
              "<style scoped>\n",
              "    .dataframe tbody tr th:only-of-type {\n",
              "        vertical-align: middle;\n",
              "    }\n",
              "\n",
              "    .dataframe tbody tr th {\n",
              "        vertical-align: top;\n",
              "    }\n",
              "\n",
              "    .dataframe thead th {\n",
              "        text-align: right;\n",
              "    }\n",
              "</style>\n",
              "<table border=\"1\" class=\"dataframe\">\n",
              "  <thead>\n",
              "    <tr style=\"text-align: right;\">\n",
              "      <th></th>\n",
              "      <th>region</th>\n",
              "      <th>Provinces_Preparedness_and_Response</th>\n",
              "      <th>Date</th>\n",
              "      <th>Agg_Provinces_Preparedness_and_Response</th>\n",
              "    </tr>\n",
              "  </thead>\n",
              "  <tbody>\n",
              "    <tr>\n",
              "      <th>count</th>\n",
              "      <td>166</td>\n",
              "      <td>166</td>\n",
              "      <td>166</td>\n",
              "      <td>166</td>\n",
              "    </tr>\n",
              "    <tr>\n",
              "      <th>unique</th>\n",
              "      <td>8</td>\n",
              "      <td>155</td>\n",
              "      <td>24</td>\n",
              "      <td>131</td>\n",
              "    </tr>\n",
              "    <tr>\n",
              "      <th>top</th>\n",
              "      <td>Balochistan</td>\n",
              "      <td>Isolation rooms/ wards for COVID-19 have been ...</td>\n",
              "      <td>2020-03-15 00:00:00</td>\n",
              "      <td>Involvement of WHO staff to provide support in...</td>\n",
              "    </tr>\n",
              "    <tr>\n",
              "      <th>freq</th>\n",
              "      <td>36</td>\n",
              "      <td>3</td>\n",
              "      <td>10</td>\n",
              "      <td>3</td>\n",
              "    </tr>\n",
              "    <tr>\n",
              "      <th>first</th>\n",
              "      <td>NaN</td>\n",
              "      <td>NaN</td>\n",
              "      <td>2020-03-11 00:00:00</td>\n",
              "      <td>NaN</td>\n",
              "    </tr>\n",
              "    <tr>\n",
              "      <th>last</th>\n",
              "      <td>NaN</td>\n",
              "      <td>NaN</td>\n",
              "      <td>2020-04-03 00:00:00</td>\n",
              "      <td>NaN</td>\n",
              "    </tr>\n",
              "  </tbody>\n",
              "</table>\n",
              "</div>"
            ],
            "text/plain": [
              "             region  ...            Agg_Provinces_Preparedness_and_Response\n",
              "count           166  ...                                                166\n",
              "unique            8  ...                                                131\n",
              "top     Balochistan  ...  Involvement of WHO staff to provide support in...\n",
              "freq             36  ...                                                  3\n",
              "first           NaN  ...                                                NaN\n",
              "last            NaN  ...                                                NaN\n",
              "\n",
              "[6 rows x 4 columns]"
            ]
          },
          "metadata": {
            "tags": []
          },
          "execution_count": 8
        }
      ]
    },
    {
      "cell_type": "markdown",
      "metadata": {
        "id": "gCLAsW8M1qVz",
        "colab_type": "text"
      },
      "source": [
        "# **Saving Data back to Excel File**"
      ]
    },
    {
      "cell_type": "code",
      "metadata": {
        "id": "BtVW2Mhz1nM7",
        "colab_type": "code",
        "colab": {}
      },
      "source": [
        "c_v.to_excel(\"/content/TimeSeries_Province_Response.xlsx\")\n"
      ],
      "execution_count": 0,
      "outputs": []
    }
  ]
}